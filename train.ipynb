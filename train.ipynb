{
  "cells": [
    {
      "cell_type": "code",
      "execution_count": null,
      "metadata": {
        "id": "mjfvEAFjGzPa"
      },
      "outputs": [],
      "source": [
        "!git clone https://github.com/arunsammit/MPNN-Ptr mpnn_ptr\n",
        "%cd mpnn_ptr"
      ]
    },
    {
      "cell_type": "code",
      "execution_count": null,
      "metadata": {
        "id": "GdfJoa3jH8BH"
      },
      "outputs": [],
      "source": [
        "!pip install torch-scatter torch-sparse torch-cluster torch-spline-conv torch-geometric -f https://data.pyg.org/whl/torch-1.10.0+cu111.html"
      ]
    },
    {
      "cell_type": "code",
      "execution_count": 18,
      "metadata": {
        "collapsed": true,
        "id": "iGeoT5pqx3HS"
      },
      "outputs": [],
      "source": [
        "from models.mpnn_ptr import *\n",
        "from models.mpnn import *\n",
        "from models.seqToseq import *\n",
        "from torch import nn\n",
        "import torch\n",
        "from utils.utils import communication_cost, calculate_baseline"
      ]
    },
    {
      "cell_type": "code",
      "execution_count": 9,
      "metadata": {
        "id": "Fd_nu5tox3HV"
      },
      "outputs": [],
      "source": [
        "device = torch.device(\"cuda\" if torch.cuda.is_available() else \"cpu\")"
      ]
    },
    {
      "cell_type": "code",
      "execution_count": 14,
      "metadata": {
        "id": "o3zKvw68x3HW"
      },
      "outputs": [],
      "source": [
        "def init_weights(m):\n",
        "    for name, param in m.named_parameters():\n",
        "        nn.init.uniform_(param.data, -0.08, 0.08)"
      ]
    },
    {
      "cell_type": "code",
      "execution_count": 5,
      "metadata": {
        "colab": {
          "base_uri": "https://localhost:8080/"
        },
        "id": "Zex2O7OCJmOj",
        "outputId": "c6dd34d1-77c5-4483-a0ec-0e3cd6df6c5d"
      },
      "outputs": [
        {
          "name": "stdout",
          "output_type": "stream",
          "text": [
            "sample_data\n"
          ]
        }
      ],
      "source": [
        "!ls"
      ]
    },
    {
      "cell_type": "code",
      "execution_count": 10,
      "metadata": {
        "colab": {
          "base_uri": "https://localhost:8080/"
        },
        "id": "C0mCC_GsJbmF",
        "outputId": "9d61cf4b-c252-4a1e-ed33-903055f783cf"
      },
      "outputs": [
        {
          "name": "stdout",
          "output_type": "stream",
          "text": [
            "Mounted at ./drive\n"
          ]
        }
      ],
      "source": [
        "from google.colab import drive\n",
        "drive.mount('./drive')"
      ]
    },
    {
      "cell_type": "code",
      "execution_count": 11,
      "metadata": {
        "id": "hGqZMF4dIzo0"
      },
      "outputs": [],
      "source": [
        "dataloader, distance_matrices = torch.load('drive/MyDrive/data_MTP/data_64.pt')"
      ]
    },
    {
      "cell_type": "code",
      "execution_count": null,
      "metadata": {
        "id": "tKM5nO4Px3HX",
        "outputId": "23c0b7c6-6a9c-4c31-b22b-80b08cc3a1a9"
      },
      "outputs": [
        {
          "data": {
            "text/plain": [
              "128"
            ]
          },
          "execution_count": 11,
          "metadata": {},
          "output_type": "execute_result"
        }
      ],
      "source": [
        "dataloader.batch_size"
      ]
    },
    {
      "cell_type": "code",
      "execution_count": 15,
      "metadata": {
        "id": "CFqoZKv6x3HY"
      },
      "outputs": [],
      "source": [
        "max_graph_size = 64\n",
        "mpnn_ptr = MpnnPtr(input_dim=max_graph_size, embedding_dim=75, hidden_dim=81, K=3, n_layers=4,p_dropout=0, logit_clipping=True, device=device)\n",
        "mpnn_ptr.to(device)\n",
        "mpnn_ptr.apply(init_weights)\n",
        "optim = torch.optim.Adam(mpnn_ptr.parameters(), lr=0.0001)\n",
        "num_epochs = 3500\n",
        "epoch_penalty = torch.zeros(len(dataloader))\n",
        "loss_list_pre = []"
      ]
    },
    {
      "cell_type": "code",
      "execution_count": null,
      "metadata": {
        "colab": {
          "base_uri": "https://localhost:8080/"
        },
        "id": "4UoiYvg_x3HY",
        "outputId": "9d7fae5e-c907-4fe9-a12c-9a7fbdcae930"
      },
      "outputs": [],
      "source": [
        "mpnn_ptr.train()"
      ]
    },
    {
      "cell_type": "code",
      "execution_count": 19,
      "metadata": {
        "id": "iJHcqSRhL9YQ"
      },
      "outputs": [],
      "source": [
        "mpnn_ptr = torch.load('./drive/MyDrive/data_MTP/model_64.pt')"
      ]
    },
    {
      "cell_type": "code",
      "execution_count": null,
      "metadata": {
        "colab": {
          "base_uri": "https://localhost:8080/",
          "height": 1000
        },
        "id": "nHXRexxQx3HZ",
        "outputId": "6f32de74-d2ee-4a1f-fa17-39dc34904918"
      },
      "outputs": [],
      "source": [
        "for epoch in range(num_epochs):\n",
        "    epoch_penalty[:] = 0\n",
        "    for i, (data, distance_matrix) in enumerate(zip(dataloader, distance_matrices)):\n",
        "        num_samples = 16\n",
        "        \n",
        "        samples, predicted_mappings, log_likelihoods_sum = mpnn_ptr(data,num_samples)\n",
        "        # samples shape: (batch_size, num_samples, max_graph_size_in_batch)\n",
        "        # predicted_mappings shape: (batch_size, max_graph_size_in_batch)\n",
        "        # log_likelihoods_sum shape: (batch_size,)\n",
        "        penalty = communication_cost(data.edge_index, data.edge_attr, data.batch, data.num_graphs, distance_matrix, predicted_mappings)\n",
        "        epoch_penalty[i] = penalty.sum()\n",
        "        penalty_baseline = calculate_baseline(data.edge_index, data.edge_attr, data.batch, data.num_graphs, distance_matrix, samples)\n",
        "        loss = torch.mean((penalty.detach() - penalty_baseline.detach()) * log_likelihoods_sum)\n",
        "        optim.zero_grad()\n",
        "        loss.backward()\n",
        "        nn.utils.clip_grad_norm_(mpnn_ptr.parameters(), max_norm=1, norm_type=2)\n",
        "        optim.step()\n",
        "    batch_loss = epoch_penalty.sum().item()\n",
        "    loss_list_pre.append(batch_loss)\n",
        "    print('Epoch: {}/{}, Loss: {}'.format(epoch + 1, num_epochs, batch_loss))"
      ]
    },
    {
      "cell_type": "code",
      "execution_count": null,
      "metadata": {
        "id": "Nhy398HyQ5wc"
      },
      "outputs": [],
      "source": [
        "import matplotlib.pyplot as plt"
      ]
    },
    {
      "cell_type": "code",
      "execution_count": 21,
      "metadata": {
        "id": "HYU1Lxm6Q7b9"
      },
      "outputs": [],
      "source": [
        "torch.save(mpnn_ptr,'./drive/MyDrive/data_MTP/model_64.pt')"
      ]
    },
    {
      "cell_type": "code",
      "execution_count": null,
      "metadata": {
        "id": "U0Rc7Ga5Qr0e"
      },
      "outputs": [],
      "source": [
        "fig_pre, ax_pre = plt.subplots()  \n",
        "ax_pre.plot(loss_list_pre)  \n",
        "ax_pre.set_xlabel('number of epochs') \n",
        "ax_pre.set_ylabel('communication cost')  \n",
        "ax_pre.set_title(\"communication cost v/s number of epochs\")  "
      ]
    },
    {
      "cell_type": "code",
      "execution_count": null,
      "metadata": {
        "id": "KVlVriC4SPVZ"
      },
      "outputs": [],
      "source": []
    }
  ],
  "metadata": {
    "accelerator": "GPU",
    "colab": {
      "name": "train.ipynb",
      "provenance": []
    },
    "kernelspec": {
      "display_name": "Python 3",
      "language": "python",
      "name": "python3"
    },
    "language_info": {
      "codemirror_mode": {
        "name": "ipython",
        "version": 3
      },
      "file_extension": ".py",
      "mimetype": "text/x-python",
      "name": "python",
      "nbconvert_exporter": "python",
      "pygments_lexer": "ipython3",
      "version": "3.8.10"
    }
  },
  "nbformat": 4,
  "nbformat_minor": 0
}
