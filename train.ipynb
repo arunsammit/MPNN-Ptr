{
 "cells": [
  {
   "cell_type": "code",
   "execution_count": 8,
   "metadata": {
    "collapsed": true
   },
   "outputs": [],
   "source": [
    "from models.mpnn_ptr import MpnnPtr\n",
    "from torch import nn\n",
    "import torch\n",
    "from utils.utils import communication_cost, calculate_baseline"
   ]
  },
  {
   "cell_type": "code",
   "execution_count": 14,
   "metadata": {},
   "outputs": [],
   "source": [
    "device = torch.device(\"cuda\" if torch.cuda.is_available() else \"cpu\")"
   ]
  },
  {
   "cell_type": "code",
   "execution_count": 16,
   "metadata": {},
   "outputs": [],
   "source": [
    "def init_weights(m):\n",
    "    for name, param in m.named_parameters():\n",
    "        nn.init.uniform_(param.data, -0.08, 0.08)"
   ]
  },
  {
   "cell_type": "code",
   "execution_count": 9,
   "metadata": {},
   "outputs": [],
   "source": [
    "dataloader, distance_matrices = torch.load('data/data_64.pt')"
   ]
  },
  {
   "cell_type": "code",
   "execution_count": 11,
   "metadata": {},
   "outputs": [
    {
     "data": {
      "text/plain": [
       "128"
      ]
     },
     "execution_count": 11,
     "metadata": {},
     "output_type": "execute_result"
    }
   ],
   "source": [
    "dataloader.batch_size"
   ]
  },
  {
   "cell_type": "code",
   "execution_count": 17,
   "metadata": {},
   "outputs": [],
   "source": [
    "max_graph_size = 64\n",
    "mpnn_ptr = MpnnPtr(input_dim=max_graph_size, embedding_dim=75, hidden_dim=81, K=3, n_layers=4,p_dropout=0, logit_clipping=True, device=device)\n",
    "mpnn_ptr.to(device)\n",
    "mpnn_ptr.apply(init_weights)\n",
    "optim = torch.optim.Adam(mpnn_ptr.parameters(), lr=0.0001)\n",
    "num_epochs = 3500\n",
    "epoch_penalty = torch.zeros(len(dataloader))\n",
    "loss_list_pre = []"
   ]
  },
  {
   "cell_type": "code",
   "execution_count": null,
   "metadata": {},
   "outputs": [],
   "source": [
    "mpnn_ptr.train()"
   ]
  },
  {
   "cell_type": "code",
   "execution_count": null,
   "metadata": {},
   "outputs": [],
   "source": [
    "for epoch in range(num_epochs):\n",
    "    epoch_penalty[:] = 0\n",
    "    for i, (data, distance_matrix) in enumerate(zip(dataloader, distance_matrices)):\n",
    "        num_samples = 16\n",
    "        \n",
    "        samples, predicted_mappings, log_likelihoods_sum = mpnn_ptr(data,num_samples)\n",
    "        # samples shape: (batch_size, num_samples, max_graph_size_in_batch)\n",
    "        # predicted_mappings shape: (batch_size, max_graph_size_in_batch)\n",
    "        # log_likelihoods_sum shape: (batch_size,)\n",
    "        penalty = communication_cost(data.edge_index, data.edge_attr, data.batch, data.num_graphs, distance_matrix, predicted_mappings)\n",
    "        epoch_penalty[i] = penalty.sum()\n",
    "        penalty_baseline = calculate_baseline(data.edge_index, data.edge_attr, data.batch, data.num_graphs, distance_matrix, samples)\n",
    "        loss = torch.mean((penalty.detach() - penalty_baseline.detach()) * log_likelihoods_sum)\n",
    "        optim.zero_grad()\n",
    "        loss.backward()\n",
    "        nn.utils.clip_grad_norm_(mpnn_ptr.parameters(), max_norm=1, norm_type=2)\n",
    "        optim.step()\n",
    "    batch_loss = epoch_penalty.sum().item()\n",
    "    loss_list_pre.append(batch_loss)\n",
    "    print('Epoch: {}/{}, Loss: {}'.format(epoch + 1, num_epochs, batch_loss))"
   ]
  }
 ],
 "metadata": {
  "kernelspec": {
   "display_name": "Python 3",
   "language": "python",
   "name": "python3"
  },
  "language_info": {
   "codemirror_mode": {
    "name": "ipython",
    "version": 3
   },
   "file_extension": ".py",
   "mimetype": "text/x-python",
   "name": "python",
   "nbconvert_exporter": "python",
   "pygments_lexer": "ipython3",
   "version": "3.8.10"
  }
 },
 "nbformat": 4,
 "nbformat_minor": 0
}
